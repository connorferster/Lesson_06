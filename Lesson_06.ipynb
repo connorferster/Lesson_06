{
 "cells": [
  {
   "cell_type": "code",
   "execution_count": 1,
   "metadata": {},
   "outputs": [],
   "source": [
    "from __future__ import annotations\n",
    "from typing import Optional"
   ]
  },
  {
   "cell_type": "markdown",
   "metadata": {},
   "source": [
    "# Lesson 6: Designing Data\n",
    "\n"
   ]
  },
  {
   "cell_type": "markdown",
   "metadata": {},
   "source": [
    "A really important aspect of program design is designing the right \"data type\" for your data. Depending on the data types you select for your program, your program can either become much easier to write or much more difficult to write.\n",
    "\n",
    "### Three quotes from fancy people on this topic:\n",
    "\n",
    "#### From [Linus Torvalds](https://en.wikipedia.org/wiki/Linus_Torvalds) (creator of the Linux operating system and the git version control application)\n",
    "> \"Bad programmers worry about the code. Good programmers worry about data structures and their relationships.\"\n",
    "\n",
    "#### From [Rob Pike](https://users.ece.utexas.edu/~adnan/pike.html) in his book, \"Rules of Programming\"\n",
    "> \"Data dominates. If you've chosen the right data structures and organized things well, the algorithms will almost always be self-evident. Data structures, not algorithms, are central to programming.\"\n",
    "\n",
    "#### From [Fred Brooks](https://en.wikipedia.org/wiki/The_Mythical_Man-Month) in his book, \"The Mythical Man-Month\"\n",
    "> \"Representation is the essence of computer programming.\n",
    "...\n",
    "Show me your flowcharts and conceal your tables, and I shall continue to be mystified. Show me your tables, and I won't usually need your flowcharts; they'll be obvious.\"\n",
    "\n"
   ]
  },
  {
   "cell_type": "code",
   "execution_count": null,
   "metadata": {},
   "outputs": [],
   "source": []
  },
  {
   "cell_type": "markdown",
   "metadata": {},
   "source": [
    "# Designing data is about modelling and about communication\n",
    "\n",
    "The process of \"designing data\" is _not required_ in Python. It is, however, a common practice. \n",
    "\n",
    "Python is a \"dynamic language\". When you create a variable, say `a = 4.3`, you do not have to state in advance that the variable `a` is going to be a `float`. You just assign the value and away you go. Any explanation you give about the _type_ of data in a variable is purely for expression and explanation.\n",
    "\n",
    "Designing a **data definition** does not change how your code is run. It is a way of creating mental models and expressing them in your code. It is about communication about your intention (to other programmers including \"future you\") behind your program design. It is about understanding what you are doing and why you are doing it."
   ]
  },
  {
   "cell_type": "code",
   "execution_count": null,
   "metadata": {},
   "outputs": [],
   "source": []
  },
  {
   "cell_type": "markdown",
   "metadata": {
    "tags": []
   },
   "source": [
    "# Data Definitions\n",
    "\n",
    "In real life, data often has certain limits and cannot be \"any value\". \n",
    "\n",
    "Examples:\n",
    "* The battery power in your phone is reported in percent and percentages (in the context of your phone battery) are between 0 and 100. So, the limit on this data is that it must be a value between 0 and 100. A battery percentage can be expressed as an `int` but it cannot be \"any value\" of `int`.\n",
    "* Frequencies on the FM radio dial go between 87.9 MHz and 107.9 MHz and they increment by 0.2 MHz on the odd tenth (e.g. 87.9, 88.1, 88.3, etc.). A radio frequency could be represented as a `float` or a `str` but they cannot be \"any value\" of those types.\n",
    "* Steel W-Sections in Canada range from \"W1100x499\" down to \"W100x19\" in particular increments. This can be represented by a `str` or perhaps a `tuple` of `int` (like `(1100, 499)`) but it cannot take \"any value\" of `str` or `tuple`.\n",
    "\n",
    "A formal **data definition** is a way of communicating to the reader of the code the parameters of your data, how it works, and how you have decided to model it in Python.\n",
    "\n",
    "### \"Reader\" of the code? I thought that was the computer...\n",
    "\n",
    "It is said that \"Code is read more often than it is written.\" Code is written once but, even though we are the writers of the code, we still often go back and re-read our code to troubleshoot it or to extend, enhance, or optimize it. \n",
    "\n",
    "Anyone interacting with your program's code will have to read it for themselves to understand how it works before they can write any new code."
   ]
  },
  {
   "cell_type": "code",
   "execution_count": null,
   "metadata": {},
   "outputs": [],
   "source": []
  },
  {
   "cell_type": "markdown",
   "metadata": {
    "tags": []
   },
   "source": [
    "## Three conceptual \"families\" of data: *Atomic*, *Collection*, -and- *Compound*\n",
    "\n",
    "So far, we have worked primarily with numbers (`int` and `float`), strings of text (`str`), and lists of things (`list`) and a little bit of work with `tuple`, which is like a `list` that we cannot change. If we were to split those data types into these two categories, they would look like this:\n",
    "\n",
    " Atomic Types | Collection Types | Compound Types\n",
    "--------------|------------------|------\n",
    " `int`        |     `list`      | `dataclass`\n",
    " `float`      |       `tuple`    | `NamedTuple`\n",
    " `str`        |    **`dict`**        | **`dict`**\n",
    " `bool`       |    `set`         |\n",
    " `None`       |                  |\n",
    " `Optional`   |                  |\n",
    " "
   ]
  },
  {
   "cell_type": "code",
   "execution_count": null,
   "metadata": {},
   "outputs": [],
   "source": []
  },
  {
   "cell_type": "markdown",
   "metadata": {},
   "source": [
    "## Atomic\n",
    "\n",
    "**Atomic types** are, as the name suggests, data types that we cannot break down any further. An integer is an integer, a string is a string, and a bool is a bool. Even though Atomic types appear simple and obvious to design with, it is important to still follow a data design process because the Atomic data types you choose will affect how you write your program.\n",
    "\n",
    "**Atomic types in Python**\n",
    "* `bool`: Can be used to represent binary choices (\"in\"/\"out\", \"up\"/\"down\", \"on\"/\"off\") which can be represented as `True`/`False`\n",
    "* `int`: Can be used to represent _discrete_ quantities (steps of whole numbers)\n",
    "* `float`: Can be used to represent _continuous_ quantities\n",
    "* `str`: Can be used to represent any data that can be described in text (but also a _collection_ of characters)\n",
    "* `None`: Can be used to represent \"null\" data or \"no value\". \n",
    "* `Optional`: Can be used to represent a quantity that could have a value or could be None, e.g. level of a battery where `None` represents either an empty battery or no battery present otherwise a `float` would represent the level of power."
   ]
  },
  {
   "cell_type": "code",
   "execution_count": null,
   "metadata": {},
   "outputs": [],
   "source": []
  },
  {
   "cell_type": "markdown",
   "metadata": {
    "tags": []
   },
   "source": [
    "## Designing Atomic data\n",
    "\n",
    "The design of atomic data is primarily for communication. It does not have any particular affect on your program at run time but it can be useful for showing the intention and thinking behind your program."
   ]
  },
  {
   "cell_type": "markdown",
   "metadata": {},
   "source": [
    "### Design Template for Atomic Data\n",
    "\n",
    "```python\n",
    "DataType: <type> # Interp. represents something about a thing...explain what the values in datatype could be or what their range might be - type names should be TitleCase (convention for python custom types and classes)\n",
    "    \n",
    "# Examples - variable names for examples should be all caps (convention for python constants)\n",
    "DT0 = <an example value>\n",
    "DT1 = <an example value>\n",
    "```\n",
    "\n",
    "**An example:**\n",
    "```python\n",
    "AMFreq: int # A Canadian AM radio frequency in kHz. Valid AM frequencies are between 540 and 1170 kHz and step in increments of 10.\n",
    "\n",
    "#Examples\n",
    "AMF0 = 1060\n",
    "AMF1 = 540\n",
    "AMF2 = 1170\n",
    "```\n",
    "\n",
    "**Using the datatype in a function**\n",
    "\n",
    "```python\n",
    "def test_valid_freq(freq: AMFreq) -> bool:\n",
    "    \"\"\"\n",
    "    Returns True if 'freq' is a valid AM radio frequency. False, otherwise.\n",
    "    \"\"\"\n",
    "    range_ok = (540 <= freq <= 1170)\n",
    "    freq_step_ok = (freq % 10 == 0)\n",
    "    if range_ok and freq_step_ok:\n",
    "        return True\n",
    "    return False\n",
    "```"
   ]
  },
  {
   "cell_type": "code",
   "execution_count": null,
   "metadata": {},
   "outputs": [],
   "source": []
  },
  {
   "cell_type": "markdown",
   "metadata": {},
   "source": [
    "#### Using `Optional`\n",
    "```python\n",
    "from typing import Optional # First, import it from 'typing' module in the standard library\n",
    "\n",
    "BatteryLevel: Optional[float] # Interp. represents the power of a battery in percent. None represents no battery present.\n",
    "\n",
    "BL_1 = 12.3\n",
    "BL_2 = 100.0\n",
    "BL_3 = None\n",
    "\n",
    "def check_battery_present(bl: BatteryLevel) -> bool:\n",
    "    \"\"\"\n",
    "    Returns True if the battery is present.\n",
    "    Returns False otherwise.\n",
    "    \"\"\"\n",
    "    if bl is not None:\n",
    "        return True\n",
    "    else:\n",
    "        return False\n",
    "```"
   ]
  },
  {
   "cell_type": "code",
   "execution_count": null,
   "metadata": {},
   "outputs": [],
   "source": []
  },
  {
   "cell_type": "markdown",
   "metadata": {},
   "source": [
    "# Compound\n",
    "\n",
    "**Compound types** are used to combine different kinds of data to represent something that may have multiple attributes. \n",
    "\n",
    "For example, a car which might have attributes of \"Make\", \"Model\", \"Year\", and \"Colour\". \n",
    "\n",
    "There are many kinds of compound types in Python but we will start with two of the most common:\n",
    "\n",
    "1. `dict` - An built-in, _ad hoc_ compound type useful for when you do not know what the names of the attributes might be.\n",
    "2. `dataclass` - A simple compound type that requires the user to pre-define the names of the attributes.\n",
    "\n",
    "> **Note:** The `dict` type is incredibly useful for a wide range of purposes. Its key characteristic is that it stores a _pair_ of data, a key and a value, in a collection, like a list does. It is suitable for representing data that may come in odd shapes, such as for defining heirarchical or \"tree-like\" data."
   ]
  },
  {
   "cell_type": "code",
   "execution_count": null,
   "metadata": {},
   "outputs": [],
   "source": []
  },
  {
   "cell_type": "markdown",
   "metadata": {
    "tags": []
   },
   "source": [
    "# `dict`\n",
    "\n",
    "## Basics of `dict` (both a **compound** and a **collection** type)\n",
    "\n",
    "A `dict` is a dictionary. Just like a printed dictionary where you look up words to find their meanings, you can use a `dict` to look up keys to find their values. These key/value pairs are stored in the dictionary like a list.\n",
    "\n",
    "You create a dictionary by using _braces_ `{...}`. You separate the keys and values with a _colon_, `:`. You separate key/value pairs with a _comma_ `,`.\n",
    "\n",
    "An example:\n",
    "```python\n",
    "my_dict = {\"concrete\": \"35 MPa\", \"steel\": \"400 MPa\", \"wood\": \"19.2 MPa\"}\n",
    "```\n",
    "\n",
    "Use indexing notation to get the value you want. With a list, you use the position of the list item as the index. With a dictionary, you use the key of the item you want.\n",
    "\n",
    "If a key is _not_ in the `dict`, you get an `IndexError`\n",
    "\n",
    "```python\n",
    "my_dict[\"concrete\"] # Returns \"35 MPa\"\n",
    "my_dict[\"steel\"] # Returns \"400 MPa\"\n",
    "my_dict[\"wood\"] # Returns \"19.2 MPa\"\n",
    "my_dict[\"glass\"] # Raises IndexError because \"glass\" is not in the dict\n",
    "```"
   ]
  },
  {
   "cell_type": "code",
   "execution_count": null,
   "metadata": {},
   "outputs": [],
   "source": []
  },
  {
   "cell_type": "markdown",
   "metadata": {
    "tags": []
   },
   "source": [
    "#### `dict` methods\n",
    "\n",
    "Because `dict` is a built-in type (like `list` and `str`), it also has some built-in methods:\n",
    "\n",
    "Below are some of the most commonly used methods:\n",
    "* `.update(new_dict_values: dict)` - Use .update to add new key/values to the dict or to change the value of an existing key. \n",
    "* `.get(key, [default = None])` - Use .get to get the value associated with the key. If the key is not found then return the \"default\" value.\n",
    "* `.keys()` - Use .keys in a for loop to iterate over the keys of the dictionary\n",
    "* `.values()` - Use .values in a for loop to iterate over the values of the dictionary\n",
    "* `.items()` - Use .items in a for loop to iterate over each key, value pair (i.e. loops over both keys/values at the same time)\n",
    "\n",
    "See the [Lesson 06 Reference](Lesson_06_Reference.ipynb) for examples of how each of these methods are used."
   ]
  },
  {
   "cell_type": "code",
   "execution_count": null,
   "metadata": {},
   "outputs": [],
   "source": []
  },
  {
   "cell_type": "markdown",
   "metadata": {
    "tags": []
   },
   "source": [
    "# 1. Data definition recipe for `dict` as a _compound_ type\n",
    "\n",
    "Choose a _dict_ for a compound data definition for the following conditions:\n",
    "\n",
    "1. You do not know _what the attributes are_ that you will need to store as keys\n",
    "2. You do not know _how many attributes_ you will need to store as keys\n",
    "3. You do not know the _shape_ of your data (e.g. nested/tree/heirachical data)\n",
    "\n",
    "\n",
    "```python\n",
    "from typing import Dict\n",
    "MyCompoundType: Dict\n",
    "\n",
    "# Interp. Represents a ... \n",
    "# keys represent ...\n",
    "# values represent ...\n",
    "\n",
    "# Examples\n",
    "MCT1 = {<key1a>: <value1a>, <key1b>: <value1b>, ...}\n",
    "MCT2 = {<key2a>: <value2a>, <key2b>: <value2b>, ...}\n",
    "```\n",
    "\n",
    "### An example\n",
    "\n",
    "```python\n",
    "from typing import Dict\n",
    "WoodMaterial: Dict\n",
    "\n",
    "# Interp. A class to represent a structural wood material as defined in CSA O86-14\n",
    "# species is a str which can be one of \"D. Fir\", \"SPF\", \"Hem-Fir\", or \"Northern\"\n",
    "# grade is a str which can be one of \"SS\", \"No. 1/2\", \"No. 3/Stud\"\n",
    "# E is the elastic modulus in MPa\n",
    "# Refer to Table 6.3.1A for more information\n",
    "\n",
    "WMD1 = {\"species\": \"D. Fir\", \"grade\": \"SS\", \"E\": 12500}\n",
    "WMD2 = {\"species\": \"Northern\", \"grade\": \"No. 3/Stud\", \"E\": 6500}\n",
    "WMD3 = {\"species\": \"SPF\", \"grade\": \"No. 1/2\", \"E\": 9500}\n",
    "```"
   ]
  },
  {
   "cell_type": "code",
   "execution_count": null,
   "metadata": {},
   "outputs": [],
   "source": []
  },
  {
   "cell_type": "code",
   "execution_count": null,
   "metadata": {},
   "outputs": [],
   "source": []
  },
  {
   "cell_type": "markdown",
   "metadata": {},
   "source": [
    "# `dataclass`\n",
    "\n",
    "## Basics of `dataclass`\n",
    "\n",
    "A dataclass is a special \"template maker\" for when you need to store structured data of different types. You can think of it as a way of making \"custom types\".\n",
    "\n",
    "An example for creating a custom type called `WoodMaterial`:\n",
    "\n",
    "```python\n",
    "from dataclasses import dataclass # included in the standard library\n",
    "\n",
    "@dataclass # this thing is called a \"decorator\". Just go with it for now.\n",
    "class WoodMaterial:\n",
    "    species: str\n",
    "    grade: str\n",
    "    E: int\n",
    "\n",
    "d_fir_ss = WoodMaterial(\"D. Fir\", \"SS\", 12500)\n",
    "```\n",
    "\n",
    "The pieces of data you store in your class are called _attributes_. You access the data within each of your attribute names by using \"dot notation\".\n",
    "\n",
    "If you try to access an attribute that does not exist in your class, you will get an `AttributeError`.\n",
    "\n",
    "```python\n",
    "d_fir_ss.species # Returns 'D. Fir'\n",
    "d_fir_ss.grade # Returns 'SS'\n",
    "d_fir_ss.E # Returns 12500\n",
    "d_fir_ss.fb # Raises AttributeError\n",
    "```"
   ]
  },
  {
   "cell_type": "code",
   "execution_count": null,
   "metadata": {},
   "outputs": [],
   "source": []
  },
  {
   "cell_type": "markdown",
   "metadata": {},
   "source": [
    "# `dataclass` methods\n",
    "\n",
    "The custom types you create with `dataclass` do not have their own built-in methods like `dict`, `str`, and `list` have.\n",
    "\n",
    "However, you can _create your own_ methods to operate on the data within your custom type."
   ]
  },
  {
   "cell_type": "code",
   "execution_count": null,
   "metadata": {},
   "outputs": [],
   "source": []
  },
  {
   "cell_type": "markdown",
   "metadata": {
    "tags": []
   },
   "source": [
    "# 2. Data definition recipe for `dataclass` (_compound_ type)\n",
    "\n",
    "```python\n",
    "from dataclasses import dataclass\n",
    "\n",
    "@dataclass\n",
    "class ClassName:\n",
    "    attribute_a: <type>\n",
    "    attribute_b: <type>\n",
    "    attribute_c: <type>\n",
    "    ...\n",
    "```\n",
    "\n",
    "### An example\n",
    "\n",
    "```python\n",
    "@dataclass # this thing is called a \"decorator\". Just go with it for now.\n",
    "class WoodMaterial:\n",
    "    species: str\n",
    "    grade: str\n",
    "    E: int\n",
    "    \n",
    "# Interp. A class to represent a structural wood material as defined in CSA O86-14\n",
    "# species is a str which can be one of \"D. Fir\", \"SPF\", \"Hem-Fir\", or \"Northern\"\n",
    "# grade is a str which can be one of \"SS\", \"No. 1/2\", \"No. 3/Stud\"\n",
    "# E is the elastic modulus in MPa\n",
    "# Refer to Table 6.3.1A for more information\n",
    "\n",
    "# Examples\n",
    "WM1 = WoodMaterial(\"D. Fir\", \"SS\", 12500)\n",
    "WM2 = WoodMaterial(\"Northern\", \"No. 3/Stud\", 6500)\n",
    "WM3 = WoodMaterial(\"SPF\", \"No. 1/2\", 9500)\n",
    "```"
   ]
  },
  {
   "cell_type": "code",
   "execution_count": null,
   "metadata": {},
   "outputs": [],
   "source": []
  },
  {
   "cell_type": "markdown",
   "metadata": {},
   "source": [
    "## Differences between our `dict` and `dataclass` compound types\n",
    "\n",
    "Examples for `dict` and `dataclass` were demonstrated for describing the same data, `WoodMaterial`.\n",
    "\n",
    "Which of the two data definitions is more appropriate to represent a `WoodMaterial`? Why?"
   ]
  },
  {
   "cell_type": "code",
   "execution_count": null,
   "metadata": {},
   "outputs": [],
   "source": []
  },
  {
   "cell_type": "markdown",
   "metadata": {
    "tags": []
   },
   "source": [
    "# Collections\n",
    "\n",
    "**Collection types** can represent groups of *Atomic* types, *Compound* types, or even other *Collection* types.\n",
    "\n",
    "* `list`\n",
    "* `tuple`\n",
    "* `dict`\n",
    "* `set`"
   ]
  },
  {
   "cell_type": "markdown",
   "metadata": {},
   "source": [
    "## Designing Collections data\n",
    "\n",
    "Like Atomic data definitions, defining a Collections data definition with the Python's built-in types does not have any effect on your program but can be useful for communication.\n",
    "\n",
    "You commonly would define a collection data definition if you have already defined an atomic or compound data definition and you want to also describe, say, a list of that data type."
   ]
  },
  {
   "cell_type": "markdown",
   "metadata": {},
   "source": [
    "### Design Template for Collection Data\n",
    "\n",
    "```python\n",
    "CollectionType: <type>[<subtype>] # Interp. represents some collection of types. Explain if there are any special rules or parameters for your collection (e.g. cannot be empty, or can be up to a certain length) - type names should be TitleCase (convention for Python custom types and classes)\n",
    "    \n",
    "# Examples - variable names for examples should be ALL CAPS (convention for python constants)\n",
    "CT0 = <an example value>\n",
    "CT1 = <an example value>\n",
    "```\n",
    "\n",
    "**An example:**\n",
    "\n",
    "```python\n",
    "AMFreqList: List[AMFreq] # Interp. A list of AM radio frequencies. Can be empty.\n",
    "    \n",
    "# Examples\n",
    "AMFL0 = []\n",
    "AMFL1 = [AMF0, AMF1, AMF2]\n",
    "```\n",
    "\n",
    "**Another example, with `dict`:**\n",
    "\n",
    "```python\n",
    "AMFreqDict: Dict[AMStation, AMFreq] # Interp. A dictionary of AM radio station names and their frequencies\n",
    "    \n",
    "# Examples\n",
    "AMFD0 = {}\n",
    "AMFD1 = {AMS0: AMF0, \"CFRZ\": AMF1, AMS2: AMF2}\n",
    "```"
   ]
  },
  {
   "cell_type": "code",
   "execution_count": null,
   "metadata": {},
   "outputs": [],
   "source": []
  },
  {
   "cell_type": "markdown",
   "metadata": {},
   "source": [
    "# Converting Raw Data into Structured Data\n",
    "\n",
    "The primary purpose of designing a data type is to populate them with data. Where do we get the data?\n",
    "\n",
    "* Surveys or other hand-recorded information into a text file (e.g. csv files)\n",
    "* Software programs that produce text data outputs (e.g. spColumn, ETABS)\n",
    "* Electronic sensors or other instruments (e.g. temperature sensors, light sensors)\n",
    "* Internet \"API\"s or other data sources (e.g. Twitter, NASA)\n",
    "\n",
    "Generally speaking, Python reads *text data* in whatever format it is. However, you may have to write functions yourself in order to fit the raw text data into its own data type."
   ]
  },
  {
   "cell_type": "markdown",
   "metadata": {},
   "source": [
    "# An Example\n",
    "\n",
    "## Start with data definition\n",
    "\n",
    "```python\n",
    "import csv\n",
    "import pathlib\n",
    "from typing import NamedTuple, List\n",
    "\n",
    "class BiaxialInteraction(NamedTuple):\n",
    "    axial: float\n",
    "    mx: float\n",
    "    my: float\n",
    "    \n",
    "# Interp. Represents a data point within a 3D interaction surface\n",
    "# axial: a float representing the axial force, compression is +ve\n",
    "# mx: a float representing the moment about the x-axis, +ve is right-hand rotation\n",
    "# my: a float representing the moment about the y-axis, +ve is right-hand rotation\n",
    "```\n",
    "\n",
    "```python\n",
    "# Then write the functions to parse your data \n",
    "\n",
    "def load_3d_interaction(interaction_file_path: pathlib.Path) -> List[BiaxialInteraction]:\n",
    "    \"\"\"\n",
    "    Returns a list of BiaxialInteraction data points extracted from the raw data at\n",
    "    'interaction_file_path' where the data was generated by spColumn 3D interaction\n",
    "    failure surface .csv export.\n",
    "    \"\"\"\n",
    "    raw_data = read_interaction_csv(interaction_file_path)\n",
    "    raw_data = raw_data[1:] # The first line of the file is the column headings\n",
    "    biaxial_data = raw_data_to_list_biaxial(raw_data)\n",
    "    return biaxial_data\n",
    "\n",
    "\n",
    "def read_interaction_csv(file_path: pathlib.Path) -> List[List[str]]:\n",
    "    \"\"\"\n",
    "    Returns raw data read from the csv file at file_path.\n",
    "    \"\"\"\n",
    "    raw_data = []\n",
    "    with open(file_path, 'r') as csv_file:\n",
    "        csv_reader = csv.reader(csv_file)\n",
    "        for line in csv_reader:\n",
    "            raw_data.append(line)\n",
    "    return raw_data\n",
    "\n",
    "\n",
    "def raw_data_to_list_biaxial(raw_data: List[List[str]]) -> List[BiaxialInteraction]:\n",
    "    \"\"\"\n",
    "    Returns a list of biaxial interaction data points from a list of raw string data\n",
    "    generated from an spColumn 3D interaction surface .csv file.\n",
    "    \"\"\"\n",
    "    biaxial_data = []\n",
    "    for row in raw_data:\n",
    "        biaxial_data.append(list_to_biaxial_data(row))\n",
    "    return biaxial_data\n",
    "\n",
    "\n",
    "def list_to_biaxial_data(raw_data_row: List[str]) -> BiaxialInteraction:\n",
    "    \"\"\"\n",
    "    Returns a BiaxialInteraction object from data in 'raw_dat_row' where 'raw_data_row` is a list\n",
    "    of str with the following fields:\n",
    "        - Axial Force\n",
    "        - Moment X\n",
    "        - Moment Y\n",
    "        - N.A. Depth\n",
    "        - N.A. Angle\n",
    "        - D_t\n",
    "        - eps_s\n",
    "    \"\"\"\n",
    "    axial_force = float(raw_data_row[0])\n",
    "    moment_x = float(raw_data_row[1])\n",
    "    moment_y = float(raw_data_row[2])\n",
    "    return BiaxialInteraction(axial=axial_force, mx=moment_x, my=moment_y)\n",
    "\n",
    "```\n"
   ]
  },
  {
   "cell_type": "code",
   "execution_count": null,
   "metadata": {},
   "outputs": [],
   "source": []
  },
  {
   "cell_type": "markdown",
   "metadata": {},
   "source": [
    "## \"Designing data\" is the act of modelling things that occur in real life\n",
    "\n",
    "I find the act of designing data to be one of the most interesting and creative parts of programming. If your data is designed well, then writing the functions can become much easier. \n",
    "\n",
    "When designing data, look for opportunities to \"capture\" the qualities of the real-life phenomenon you are trying to represent and put those same qualities in your data design. For example, we captured the phenomenon that information about an artwork does not change in the design of our `ArtWork` datatype by using `NamedTuple` instead of `dataclass`. By using `NamedTuple` we also have access to the quality that an artwork is unique, because `NamedTuple` is _hashable_.\n",
    "\n",
    "However, you can also model too much. It is important to balance the amount of thoughtful modelling you put into your datatype with the actual functionality that you need to get out of your datatype: e.g. if I really wanted to capture the qualities of an artwork, should my `ArtWork` datatype also capture the medium? Maybe it should also store a URL to an image of the artwork! That would be cool.\n",
    "\n",
    "But hold on: does your application _need_ to have this much data captured right now? If you don't actually need this information yet, then do not capture it. If in the future you do, then it is easy to add this to your application _because_ you have taken the time to thoughtfully create a datatype."
   ]
  },
  {
   "cell_type": "markdown",
   "metadata": {},
   "source": [
    "## Lets design some data!\n",
    "\n",
    "For the following scenarios, think about what kinds of data types you could use to represent these phenomena in Python. Think about it on your own and come up with some ideas and then we will discuss in class.\n",
    "\n",
    "| | | |\n",
    "|-|-|-|\n",
    "| The level of gasoline in a vehicle| An inventory of all of the plants in a greenhouse | The colour of a star\n",
    "| <a href=\"https://www.bankofcanada.ca/rates/exchange/background-information-on-foreign-exchange-rates/?page_moved=1#Data-format\">The US/CAD exchange rate</a> | The weight of a salmon | <a href=\"https://www.kalzumeus.com/2010/06/17/falsehoods-programmers-believe-about-names/\">A person's name</a>\n",
    "| The melody of a song | Your monthly expenses |\n",
    "| Birthdays you want to remember every year | Cards played in a poker game |\n",
    "| Loading on a simply supported beam |  | "
   ]
  },
  {
   "cell_type": "code",
   "execution_count": null,
   "metadata": {},
   "outputs": [],
   "source": []
  },
  {
   "cell_type": "markdown",
   "metadata": {},
   "source": [
    "## This Week's Workbook\n",
    "\n",
    "In this week's tasks, you will be asked to do two things:\n",
    "\n",
    "1. Design a data type to represent the information presented in the task (many \"right answers\")\n",
    "2. Design a function to convert the provided raw data into your new data type"
   ]
  }
 ],
 "metadata": {
  "kernelspec": {
   "display_name": "Python 3 (ipykernel)",
   "language": "python",
   "name": "python3"
  },
  "language_info": {
   "codemirror_mode": {
    "name": "ipython",
    "version": 3
   },
   "file_extension": ".py",
   "mimetype": "text/x-python",
   "name": "python",
   "nbconvert_exporter": "python",
   "pygments_lexer": "ipython3",
   "version": "3.9.7"
  }
 },
 "nbformat": 4,
 "nbformat_minor": 4
}
