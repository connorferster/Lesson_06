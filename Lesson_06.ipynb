{
 "cells": [
  {
   "cell_type": "code",
   "execution_count": null,
   "metadata": {},
   "outputs": [],
   "source": [
    "from __future__ import annotations"
   ]
  },
  {
   "cell_type": "markdown",
   "metadata": {},
   "source": [
    "# Lesson 6: Designing Data\n",
    "\n"
   ]
  },
  {
   "cell_type": "code",
   "execution_count": null,
   "metadata": {},
   "outputs": [],
   "source": []
  },
  {
   "cell_type": "markdown",
   "metadata": {},
   "source": [
    "A really important aspect of program design is designing the right \"data type\" for your data. Depending on the data types you select for your program, your program can either become much easier to write or much more difficult to write.\n",
    "\n",
    "There are many different kinds of data types available to us in Python. The most basic and most useful ones are the \"built-ins\". There are many more other ones at your fingertips as part of the Python standard library (which comes pre-installed with Python). There are still EVEN MORE data types available in many 3rd party data manipulation libraries (which are pre-installed as part of the \"Anaconda\" Python distribution).\n",
    "\n",
    "On top of all of that, you can design your own custom data types to suit your specific needs. This will be taught in this course, starting with this lesson."
   ]
  },
  {
   "cell_type": "markdown",
   "metadata": {},
   "source": [
    "## Three conceptual \"families\" of data types: *Atomic*, *Collection*, -and- *Compound*\n",
    "\n",
    "So far, we have worked primarily with numbers (`int` and `float`), strings of text (`str`), and lists of things (`list`) and a little bit of work with `tuple`, which is like a `list` that we cannot change. If we were to split those data types into these two categories, they would look like this:\n",
    "\n",
    " Atomic Types | Collection Types | Compound Types\n",
    "--------------|------------------|------\n",
    " `int`        |     `list`      | `dataclass`\n",
    " `float`      |       `tuple`    | `NamedTuple`\n",
    " `str`        |    `dict`        | custom _class_\n",
    " `bool`       |    `set`         |\n",
    " `None`       |                  |\n",
    " `Optional`   |                  |\n",
    " "
   ]
  },
  {
   "cell_type": "code",
   "execution_count": null,
   "metadata": {},
   "outputs": [],
   "source": []
  },
  {
   "cell_type": "markdown",
   "metadata": {},
   "source": [
    "## Atomic\n",
    "\n",
    "**Atomic types** are, as the name suggests, data types that we cannot break down any further. An integer is an integer and a bool is a bool. Even though Atomic types appear simple and obvious to design with, it is important to still follow a data design process because the Atomic data types you choose will affect how you write your program.\n",
    "\n",
    "**Atomic types in Python**\n",
    "* `bool`: Can be used to represent binary choices (\"in\"/\"out\", \"up\"/\"down\", `True`/`False`)\n",
    "* `int`: Can be used to represent _discrete_ quantities (steps of whole numbers)\n",
    "* `float`: Can be used to represent _continuous_ quantities\n",
    "* `str`: Can be used to represent any data that can be described in text (but also a _collection_ of characters)\n",
    "* `None`: Can be used to represent \"null\" data or \"no value\". \n",
    "* `Optional`: Can be used to represent a quantity that could have a value or could be None, e.g. level of a battery where `None` represents either an empty battery or no battery present otherwise a `float` would represent the level of power."
   ]
  },
  {
   "cell_type": "markdown",
   "metadata": {},
   "source": [
    "## Designing Atomic data\n",
    "\n",
    "The design of atomic data is primarily for communication. It does not have any particular affect on your program but it can be useful for showing the intention and thinking behind your program.\n",
    "\n"
   ]
  },
  {
   "cell_type": "markdown",
   "metadata": {},
   "source": [
    "### Design Template for Atomic Data\n",
    "\n",
    "```python\n",
    "DataType: <type> # Interp. represents something about a thing...explain what the values in datatype could be or what their range might be - type names should be TitleCase (convention for python custom types and classes)\n",
    "    \n",
    "# Examples - variable names for examples should be all caps (convention for python constants)\n",
    "DT0 = <an example value>\n",
    "DT1 = <an example value>\n",
    "```\n",
    "\n",
    "**An example:**\n",
    "\n",
    "```python\n",
    "AMFreq: int # An AM radio frequency. Values are in kHz and range from 540 to 1170 in 10 kHz increments\n",
    "    \n",
    "# Examples\n",
    "AMF0 = 540\n",
    "AMF1 = 1030\n",
    "AMF2 = 1170\n",
    "```\n",
    "\n",
    "**Another example:**\n",
    "\n",
    "```python\n",
    "AMStation: str # A Canadian AM radio call sign. In Canada, radio call signs are three or four characters long, all caps, and range from \"CFA\" to \"CKZ\". Cannot be an empty str.\n",
    "    \n",
    "# Examples\n",
    "AMS0 = \"CFAS\"\n",
    "AMS1 = \"CKA\"\n",
    "AMS2 = \"CGRT\"\n",
    "```\n",
    "\n",
    "\n",
    "**Using the datatype in a function**\n",
    "\n",
    "```python\n",
    "def test_valid_freq(freq: AMFreq) -> bool:\n",
    "    \"\"\"\n",
    "    Returns True if 'freq' is a valid AM radio frequency. False, otherwise.\n",
    "    \"\"\"\n",
    "    range_ok = (540 <= freq <= 1170)\n",
    "    freq_step_ok = (freq % 10 == 0)\n",
    "    if range_ok and freq_step_ok:\n",
    "        return True\n",
    "    return False\n",
    "```"
   ]
  },
  {
   "cell_type": "code",
   "execution_count": null,
   "metadata": {},
   "outputs": [],
   "source": []
  },
  {
   "cell_type": "markdown",
   "metadata": {},
   "source": [
    "#### Using `Optional`\n",
    "```python\n",
    "from typing import Optional # First, import it from 'typing' module in the standard library\n",
    "\n",
    "BatteryLevel: Optional[float] # Interp. represents the power of a battery in percent. None represents no battery present.\n",
    "\n",
    "BL_1 = 12.3\n",
    "BL_2 = 100.0\n",
    "BL_3 = None\n",
    "\n",
    "def check_battery_power(bl: BatteryLevel) -> bool:\n",
    "    \"\"\"\n",
    "    Returns True if the battery's battery-level, 'bl' has any power.\n",
    "    Returns False otherwise.\n",
    "    \"\"\"\n",
    "    if bl is not None:\n",
    "        return True\n",
    "    else:\n",
    "        return False\n",
    "```"
   ]
  },
  {
   "cell_type": "code",
   "execution_count": null,
   "metadata": {},
   "outputs": [],
   "source": []
  },
  {
   "cell_type": "markdown",
   "metadata": {},
   "source": [
    "# Collections\n",
    "\n",
    "**Collection types** can represent groups of *Atomic* types, *Compound* types, or even other *Collection* types.\n",
    "\n",
    "* `list`\n",
    "* `tuple`\n",
    "* `dict`\n",
    "* `set`"
   ]
  },
  {
   "cell_type": "markdown",
   "metadata": {},
   "source": [
    "## Designing Collections data\n",
    "\n",
    "Like Atomic data definitions, defining a Collections data definition with the Python's built-in types does not have any effect on your program but can be useful for communication.\n",
    "\n",
    "You commonly would define a collection data definition if you have already defined an atomic or compound data definition and you want to also describe, say, a list of that data type."
   ]
  },
  {
   "cell_type": "markdown",
   "metadata": {},
   "source": [
    "### Design Template for Collection Data\n",
    "\n",
    "```python\n",
    "CollectionType: <type>[<subtype>] # Interp. represents some collection of types. Explain if there are any special rules or parameters for your collection (e.g. cannot be empty, or can be up to a certain length) - type names should be TitleCase (convention for Python custom types and classes)\n",
    "    \n",
    "# Examples - variable names for examples should be ALL CAPS (convention for python constants)\n",
    "CT0 = <an example value>\n",
    "CT1 = <an example value>\n",
    "```\n",
    "\n",
    "**An example:**\n",
    "\n",
    "```python\n",
    "AMFreqList: List[AMFreq] # Interp. A list of AM radio frequencies. Can be empty.\n",
    "    \n",
    "# Examples\n",
    "AMFL0 = []\n",
    "AMFL1 = [AMF0, AMF1, AMF2]\n",
    "```\n",
    "\n",
    "**Another example, with `dict`:**\n",
    "\n",
    "```python\n",
    "AMFreqDict: Dict[AMStation, AMFreq] # Interp. A dictionary of AM radio station names and their frequencies\n",
    "    \n",
    "# Examples\n",
    "AMFD0 = {}\n",
    "AMFD1 = {AMS0: AMF0, \"CFRZ\": AMF1, AMS2: AMF2}\n",
    "```"
   ]
  },
  {
   "cell_type": "code",
   "execution_count": null,
   "metadata": {},
   "outputs": [],
   "source": []
  },
  {
   "cell_type": "markdown",
   "metadata": {},
   "source": [
    "# Compound\n",
    "\n",
    "**Compound types** are used to combine different kinds of data to represent something that may have multiple attributes. For example, a car which might have attributes of \"Make\", \"Model\", \"Year\", and \"Colour\". \n",
    "\n",
    "When we define a compound type, we are actually creating a _new Python data type in our code_ (unlike the atomic and collection examples show above, which were just annotated versions of built-in data types).\n",
    "\n",
    "In tabular data, where rows are records and columns are fields, a compound data type might be used to represent one record.\n",
    "\n",
    "There are many kinds of compound types in Python but we will start with two of the most common:\n",
    "\n",
    "1. `dataclass` - A simple compound type that has as many fields as the user needs. _Mutable_.\n",
    "2. `NamedTuple` - A type similar to `dataclass` but is _immutable_ (or _hashable_, meaning it can be a key in a dictionary or used in a set).\n",
    "\n",
    "### Defining **Compound** types\n",
    "\n",
    "1. Any applicable imports\n",
    "2. Type creation\n",
    "3. An \"interp.\" comment to describe what the type is an how it works\n",
    "4. Examples"
   ]
  },
  {
   "cell_type": "code",
   "execution_count": null,
   "metadata": {},
   "outputs": [],
   "source": []
  },
  {
   "cell_type": "markdown",
   "metadata": {},
   "source": [
    "### Compound type: `dataclass`\n",
    "\n",
    "Make a `dataclass` like this:\n",
    "\n",
    "```python\n",
    "from dataclasses import dataclass \n",
    "\n",
    "@dataclass # This \"@\" symbol is called a \"decorator\". \n",
    "class LEDPixel:\n",
    "    x: int\n",
    "    y: int\n",
    "    colour: Optional[str]\n",
    "          \n",
    "# Interp. Represents a single LED light in a 20x20 grid of LED lights.\n",
    "# x: represents the light's location horizontally in the grid 0 <= x <= 19\n",
    "# y: represents the light's location vertically in the grid 0 <= y <= 19\n",
    "# colour: represents the current colour of the LED, can be either \"red\", \"green\", \"blue\", \"white\", or None (if LED is off)\n",
    "```\n",
    "\n",
    "To create a new compound datatype with your `LEDPixel` dataclass:\n",
    "\n",
    "```python\n",
    "LEDPX_1 = LEDPixel(x=0, y=0, colour=\"white\")\n",
    "LEDPX_2 = LEDPixel(8, 12, None)\n",
    "```\n",
    "\n",
    "We can now access the _attributes_ of an `LEDPixel` object through \"dot notation\":\n",
    "\n",
    "```python\n",
    "LEDPX_1.x\n",
    "LEDPX_1.y\n",
    "LEDPX_1.color\n",
    "```\n",
    "\n",
    "**Notice: To represent an LED pixel, using a `dataclass` would be preferred over a `NamedTuple` because we would expect the colour of an individual pixel to change colour over time.**"
   ]
  },
  {
   "cell_type": "code",
   "execution_count": null,
   "metadata": {},
   "outputs": [],
   "source": []
  },
  {
   "cell_type": "markdown",
   "metadata": {},
   "source": [
    "### Compound type: `NamedTuple`\n",
    "\n",
    "Make a `NamedTuple` like this:\n",
    "\n",
    "```python\n",
    "from typing import NamedTuple # Import NamedTuple from the typing module in the standard library\n",
    "\n",
    "class ArtWork(NamedTuple):\n",
    "    title: str\n",
    "    creator: str\n",
    "    medium: str\n",
    "    year_created: int\n",
    "       \n",
    "        \n",
    "# Interp. Represents a single piece of artwork\n",
    "# title: a str representing the artwork's title\n",
    "# creator: a str representing the artworks' creator\n",
    "# medium: a str representing the what the artworks is made of, e.g. 'painting', 'photograph', etc.\n",
    "# year_created: an int representing the date created in YYYY format\n",
    "```\n",
    "\n",
    "To create a new compound datatype with the `ArtWork` NamedTuple:\n",
    "\n",
    "```python\n",
    "AW_1 = ArtWork(title=\"Nude Descending a Staircase, No. 2\", creator=\"Marcel Duchamp\", medium=\"Painting\", year_created=1912)\n",
    "AW_2 = ArtWork(\"Ignorance = Fear\", \"Keith Haring\", \"painting\", 1989)\n",
    "```\n",
    "\n",
    "We also use \"dot notation\" to access the _attributes_ of our `ArtWork` objects:\n",
    "\n",
    "```python\n",
    "AW_2.title\n",
    "AW_2.creator\n",
    "AW_2.year_created\n",
    "```"
   ]
  },
  {
   "cell_type": "markdown",
   "metadata": {},
   "source": [
    "## Why `NamedTuple` for `ArtWork`? Why not `dataclass`?\n",
    "\n",
    "**To represent a piece of artwork, a `NamedTuple` could be more useful than a `dataclass` since the information about a piece of artwork does not change.**\n",
    "\n",
    "Since we do not expect the data to change, we can take advantage of `NamedTuple`'s immutability and gain the additional functionality of using an `ArtWork` as a dictionary key or in sets since we can take advantage of the fact that a piece of artwork is _unique_.\n",
    "\n",
    "While we _could_ just use a `dataclass` to represent an `ArtWork` and not worry about it, by choosing `NamedTuple` instead our code becomes more _expressive_. \"Expressive code\" means that we are able to communicate our creative intentions through our _choices_ of code instead of writing out long comments explaining ourselves. i.e. it's the idea of \"show, don't tell\"."
   ]
  },
  {
   "cell_type": "code",
   "execution_count": null,
   "metadata": {},
   "outputs": [],
   "source": []
  },
  {
   "cell_type": "markdown",
   "metadata": {},
   "source": [
    "# Converting Raw Data into Structured Data\n",
    "\n",
    "The primary purpose of designing a data type is to populate them with data. Where do we get the data?\n",
    "\n",
    "* Surveys or other hand-recorded information into a text file (e.g. csv files)\n",
    "* Software programs that produce text data outputs (e.g. spColumn, ETABS)\n",
    "* Electronic sensors or other instruments (e.g. temperature sensors, light sensors)\n",
    "* Internet \"API\"s or other data sources (e.g. Twitter, NASA)\n",
    "\n",
    "Generally speaking, Python reads *text data* in whatever format it is. How do you know if your data is text data? If you can open it up in a text editor (e.g. Notepad or Jupyter) and you can read it.\n",
    "\n",
    "There are many text data file formats (e.g. CSV, JSON, XML, INI, YAML, TOML, and other custom formats). For this excercise, we will be working with only **csv** files. \n",
    "\n",
    "We will discuss other formats towards the end of the course."
   ]
  },
  {
   "cell_type": "code",
   "execution_count": null,
   "metadata": {},
   "outputs": [],
   "source": []
  },
  {
   "cell_type": "markdown",
   "metadata": {},
   "source": [
    "### An example using `ArtWork`\n",
    "\n",
    "Lets say we have some data from a CSV file. We got the data from a CSV file from [The Museum of Modern Art's Github repository](https://github.com/MuseumofModernArt/collection).\n",
    "\n",
    "Because the full data set is huge, there is a sample of the data set in this week's lesson, called `Artworks-sample.csv`\n",
    "\n",
    "Here is what the first few lines might look like after reading them with Python's built in `csv` library:\n",
    "\n",
    "```python\n",
    "\n",
    "[['Title', 'Artist', 'Gender', 'Date', 'Medium', 'Dimensions', 'CreditLine', 'AccessionNumber'],\n",
    " ['City of Music, National Superior Conservatory of Music and Dance, Paris, France, View from interior courtyard', 'Christian de Portzamparc', '(Male)', '1987', 'Paint and colored pencil on print', '16 x 11 3/4\" (40.6 x 29.8 cm)', 'Gift of the architect in honor of Lily Auchincloss', '1.1995'],\n",
    " ['Villa near Vienna Project, Outside Vienna, Austria, Elevation', 'Emil Hoppe', '(Male)', '1903', 'Graphite, pen, color pencil, ink, and gouache on tracing paper', '13 1/2 x 12 1/2\" (34.3 x 31.8 cm)', 'Gift of Jo Carole and Ronald S. Lauder', '1.1997']]\n",
    "```"
   ]
  },
  {
   "cell_type": "code",
   "execution_count": null,
   "metadata": {},
   "outputs": [],
   "source": []
  },
  {
   "cell_type": "markdown",
   "metadata": {},
   "source": [
    "#### Write a function to transform a `List[str]` into an `ArtWork`\n",
    "\n",
    "The first row of data is the header and it will be useful for interpreting the raw data we have. Our `ArtWork` data type takes four pieces of information:\n",
    "* Title\n",
    "* Creator\n",
    "* Medium\n",
    "* Year created\n",
    "\n",
    "Where can we find that information in our raw `List[str]` data?\n",
    "\n",
    "```python\n",
    "from typing import List\n",
    "from cs103 import summary, start_testing, expect\n",
    "\n",
    "def create_artwork(raw_data: List[str]) -> ArtWork:\n",
    "    \"\"\"\n",
    "    Returns an ArtWork object that comes from the information in 'raw_data', a list of strs\n",
    "    read from the Artworks.csv data set from the Museum of Modern Art's Github repo.\n",
    "    \"\"\"\n",
    "    title = raw_data[0]\n",
    "    artist = raw_data[1]\n",
    "    year = int(raw_data[3])\n",
    "    medium = raw_data[4]\n",
    "    return ArtWork(title=title, creator=artist, year_created=year, medium=medium)\n",
    "\n",
    "\n",
    "record_1 = ['City of Music, National Superior Conservatory of Music and Dance, Paris, France, View from interior courtyard', 'Christian de Portzamparc', '(Male)', '1987', 'Paint and colored pencil on print', '16 x 11 3/4\" (40.6 x 29.8 cm)', 'Gift of the architect in honor of Lily Auchincloss', '1.1995']\n",
    "record_2 = ['Villa near Vienna Project, Outside Vienna, Austria, Elevation', 'Emil Hoppe', '(Male)', '1903', 'Graphite, pen, color pencil, ink, and gouache on tracing paper', '13 1/2 x 12 1/2\" (34.3 x 31.8 cm)', 'Gift of Jo Carole and Ronald S. Lauder', '1.1997']\n",
    "\n",
    "start_testing()\n",
    "expect(\n",
    "    create_artwork(data_1),\n",
    "    ArtWork(\n",
    "        title='City of Music, National Superior Conservatory of Music and Dance, Paris, France, View from interior courtyard',\n",
    "        creator='Christian de Portzamparc',\n",
    "        year_created=1987,\n",
    "        medium='Paint and colored pencil on print',\n",
    "    )\n",
    ")\n",
    "\n",
    "expect(\n",
    "    create_artwork(data_2),\n",
    "    ArtWork(\n",
    "        title='Villa near Vienna Project, Outside Vienna, Austria, Elevation',\n",
    "        creator='Emil Hoppe',\n",
    "        year_created=1903,\n",
    "        medium='Graphite, pen, color pencil, ink, and gouache on tracing paper',\n",
    "    )\n",
    ")\n",
    "summary()\n",
    "```"
   ]
  },
  {
   "cell_type": "code",
   "execution_count": null,
   "metadata": {},
   "outputs": [],
   "source": []
  },
  {
   "cell_type": "markdown",
   "metadata": {},
   "source": [
    "## Writing functions with compound data types\n",
    "\n",
    "The main features of compound data types are their _attributes_. When writing functions with compound data types, you are often accessing the attributes and making a comparison or changing their attributes based on other data."
   ]
  },
  {
   "cell_type": "markdown",
   "metadata": {},
   "source": [
    "**Example with `ArtWork`**:\n",
    "\n",
    "```python\n",
    "def artwork_by_year_created(loaw: List[Artwork], year_created: int) -> List[Artwork]:\n",
    "    \"\"\"\n",
    "    Returns a list of ArtWork representing the artworks in 'loaw' that were created\n",
    "    in the year, 'year_created'.\n",
    "    \"\"\"\n",
    "    acc = []\n",
    "    for aw in loaw:\n",
    "        if aw.year_created == year_created:\n",
    "            acc.append(aw)\n",
    "    return acc\n",
    "```\n",
    "\n",
    "**Example with `dataclass`**:\n",
    "\n",
    "```python\n",
    "def change_color_by_x(led_px: LEDPixel, new_colour: str, x: int) -> LEDPixel:\n",
    "    \"\"\"\n",
    "    Returns a 'led_px' with it's .colour attribute updated to 'new_colour' if\n",
    "    its x coordinate is a match for 'x'\n",
    "    \"\"\"\n",
    "    if led_px.x == x:\n",
    "        led_px.colour = new_colour\n",
    "        return led_px\n",
    "    return led_px\n",
    "```"
   ]
  },
  {
   "cell_type": "markdown",
   "metadata": {},
   "source": [
    "## \"Designing data\" is the act of modelling things that occur in real life\n",
    "\n",
    "I find the act of designing data to be one of the most interesting and creative parts of programming. If your data is designed well, then writing the functions can become much easier. \n",
    "\n",
    "When designing data, look for opportunities to \"capture\" the qualities of the real-life phenomenon you are trying to represent and put those same qualities in your data design. For example, we captured the phenomenon that information about an artwork does not change in the design of our `ArtWork` datatype by using `NamedTuple` instead of `dataclass`. By using `NamedTuple` we also have access to the quality that an artwork is unique, because `NamedTuple` is _hashable_.\n",
    "\n",
    "However, you can also model too much. It is important to balance the amount of thoughtful modelling you put into your datatype with the actual functionality that you need to get out of your datatype: e.g. if I really wanted to capture the qualities of an artwork, should my `ArtWork` datatype also capture the medium? Maybe it should also store a URL to an image of the artwork! That would be cool.\n",
    "\n",
    "But hold on: does your application _need_ to have this much data captured right now? If you don't actually need this information yet, then do not capture it. If in the future you do, then it is easy to add this to your application _because_ you have taken the time to thoughtfully create a datatype."
   ]
  },
  {
   "cell_type": "markdown",
   "metadata": {},
   "source": [
    "## Lets design some data!\n",
    "\n",
    "For the following scenarios, think about what kinds of data types you could use to represent these phenomena in Python. Think about it on your own and come up with some ideas and then we will discuss in class.\n",
    "\n",
    "| | | |\n",
    "|-|-|-|\n",
    "| The level of gasoline in a vehicle| An inventory of all of the plants in a greenhouse | The colour of a star\n",
    "| <a href=\"https://www.bankofcanada.ca/rates/exchange/background-information-on-foreign-exchange-rates/?page_moved=1#Data-format\">The US/CAD exchange rate</a> | The weight of a salmon | <a href=\"https://www.kalzumeus.com/2010/06/17/falsehoods-programmers-believe-about-names/\">A person's name</a>\n",
    "| The melody of a song | Your monthly expenses | Your daily to-do list\n",
    "| Birthdays you want to remember every year | Cards played in a poker game | All of the steel W-sections in the handbook\n",
    "| Loading on a simply supported beam |  | "
   ]
  },
  {
   "cell_type": "code",
   "execution_count": null,
   "metadata": {},
   "outputs": [],
   "source": []
  },
  {
   "cell_type": "markdown",
   "metadata": {},
   "source": [
    "## This Week's Workbook\n",
    "\n",
    "In this week's tasks, you will be asked to do two things:\n",
    "\n",
    "1. Design a data type to represent the information presented in the task (many \"right answers\")\n",
    "2. Design a function to convert the provided raw data into your new data type"
   ]
  }
 ],
 "metadata": {
  "kernelspec": {
   "display_name": "Python 3",
   "language": "python",
   "name": "python3"
  },
  "language_info": {
   "codemirror_mode": {
    "name": "ipython",
    "version": 3
   },
   "file_extension": ".py",
   "mimetype": "text/x-python",
   "name": "python",
   "nbconvert_exporter": "python",
   "pygments_lexer": "ipython3",
   "version": "3.8.8"
  }
 },
 "nbformat": 4,
 "nbformat_minor": 4
}
